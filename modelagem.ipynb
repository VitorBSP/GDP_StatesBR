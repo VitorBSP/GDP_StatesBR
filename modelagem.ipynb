{
 "cells": [
  {
   "attachments": {},
   "cell_type": "markdown",
   "metadata": {},
   "source": [
    "# Introdução"
   ]
  },
  {
   "attachments": {},
   "cell_type": "markdown",
   "metadata": {},
   "source": [
    "O presente trabalho é uma releitura do trabalho apresentado em Regressão Linear, o qual pode ser acessado clicando [aqui](https://github.com/VitorBSP/gdp-statesBR). \n",
    "\n",
    "Assim buscaremos entender se um modelo de Regressão Linear com todas as boas características que um modelo estatísticos exige, homocedasticidade dos erros, resíduos com média zero, não-autocorrelação, modelo corretamente especificado, sem multicolinearidade e com normalidade dos erros. Consegue competir com o estado da arte dos modelos de aprendizado de máquina para dados tabulares como Random Forest, XGBosst e LightGBM.\n",
    "\n",
    "Para isso selecionamos um dataset onde o objetivo é predizer o produto interno bruto per capita (PIB) dos 26 estados do Brasil nos anos de 2019, 2020 e 2021, assim cada ano será utilizado como dados de treino, teste e validação, respectivamente, os dados foram extraidos de planinhas disponíveis no site do Instituto Brasileiro de Geografia e Estatística (IBGE Cidades) para isso utiliza-se  como variáveis explicativas (covariáveis):\n",
    "\n",
    "**Pobreza**: Que fornece a taxa de extrema pobreza no ano;\n",
    "\n",
    "**Densidade Demográfica**: Informa a densidade demográfica de cada estado no ano de;  \n",
    "\n",
    "**Área** : Refere-se a área em km de cada estado no ano de; \n",
    "\n",
    "**Índice de Desenvolvimento Humano  Educacional** (IDHe) : Refere-se ao IDH educacional no de ano de 2017, a escolha das covariáveis foram para conter três eixos:\n",
    "\n",
    "*População e Geográfia do Estado*: Área e Densidade Demográfica;\n",
    "\n",
    "*Condição de Vida*: Pobreza;\n",
    "\n",
    "*Educação* : IDHe."
   ]
  },
  {
   "cell_type": "code",
   "execution_count": 1,
   "metadata": {},
   "outputs": [],
   "source": [
    "import numpy as np\n",
    "import pandas as pd\n",
    "import matplotlib.pyplot as plt\n",
    "import seaborn as sns\n",
    "from hyperopt import hp, tpe, fmin, Trials, STATUS_OK\n",
    "from sklearn.preprocessing import scale, normalize\n",
    "from sklearn.model_selection import cross_val_score\n",
    "from sklearn.ensemble import RandomForestRegressor\n",
    "from sklearn.tree import DecisionTreeRegressor\n",
    "from sklearn.linear_model import Lasso, Ridge, LinearRegression, ElasticNet\n",
    "from sklearn.metrics import mean_squared_error, mean_absolute_error, r2_score, mean_absolute_percentage_error\n",
    "from lightgbm import LGBMRegressor\n",
    "from xgboost import XGBRegressor\n",
    "from sklearn import preprocessing\n",
    "from utils.functions import *\n",
    "le = preprocessing.LabelEncoder()"
   ]
  },
  {
   "cell_type": "code",
   "execution_count": 2,
   "metadata": {},
   "outputs": [],
   "source": [
    "base = pd.read_csv(\"./data/data_modelagem.csv\")\n",
    "base = base.drop(columns=['State', 'Unnamed: 0'])\n",
    "base = base.rename(columns={'%_de_extremamente_pobres_':\"%_ext_pob\",'idhm_ajustado_à_desigualdade_':'idhm_desigualdade'})"
   ]
  },
  {
   "attachments": {},
   "cell_type": "markdown",
   "metadata": {},
   "source": [
    "A Tabela (Descritiva) apresenta os resultados descritivos das variáveis em estudo. Nela a variável renda per capita apresentou mínimo de 264, média de 702, e máximo de 1498, levando em conta que o quantil 75% apresenta 847 de renda per capita, é uma diferença grande do máximo para esse valor. Para a porcentagem de extrema pobraza, temos média de 6.85%. Considerando as variáveis IDHM para Educação, Longevidade e Desigualdade, temos médias de 0.7336, 0.8359 e 0.5870, respectivamente. Por fim, a Área apresenta média de 315216, aproximadamente. Sem a existência de qualquer dado nulo."
   ]
  },
  {
   "cell_type": "code",
   "execution_count": 3,
   "metadata": {},
   "outputs": [
    {
     "data": {
      "text/html": [
       "<div>\n",
       "<style scoped>\n",
       "    .dataframe tbody tr th:only-of-type {\n",
       "        vertical-align: middle;\n",
       "    }\n",
       "\n",
       "    .dataframe tbody tr th {\n",
       "        vertical-align: top;\n",
       "    }\n",
       "\n",
       "    .dataframe thead th {\n",
       "        text-align: right;\n",
       "    }\n",
       "</style>\n",
       "<table border=\"1\" class=\"dataframe\">\n",
       "  <thead>\n",
       "    <tr style=\"text-align: right;\">\n",
       "      <th></th>\n",
       "      <th>renda_per_capita_</th>\n",
       "      <th>%_ext_pob</th>\n",
       "      <th>população_total_</th>\n",
       "      <th>idhm_educação_</th>\n",
       "      <th>idhm_longevidade_</th>\n",
       "      <th>idhm_desigualdade</th>\n",
       "      <th>Area</th>\n",
       "    </tr>\n",
       "  </thead>\n",
       "  <tbody>\n",
       "    <tr>\n",
       "      <th>count</th>\n",
       "      <td>27.000000</td>\n",
       "      <td>27.000000</td>\n",
       "      <td>2.700000e+01</td>\n",
       "      <td>27.000000</td>\n",
       "      <td>27.000000</td>\n",
       "      <td>27.000000</td>\n",
       "      <td>2.700000e+01</td>\n",
       "    </tr>\n",
       "    <tr>\n",
       "      <th>mean</th>\n",
       "      <td>702.846667</td>\n",
       "      <td>6.851852</td>\n",
       "      <td>7.759128e+06</td>\n",
       "      <td>0.733630</td>\n",
       "      <td>0.835889</td>\n",
       "      <td>0.587037</td>\n",
       "      <td>3.152156e+05</td>\n",
       "    </tr>\n",
       "    <tr>\n",
       "      <th>std</th>\n",
       "      <td>264.649058</td>\n",
       "      <td>4.578216</td>\n",
       "      <td>9.256985e+06</td>\n",
       "      <td>0.053191</td>\n",
       "      <td>0.043178</td>\n",
       "      <td>0.064692</td>\n",
       "      <td>3.751019e+05</td>\n",
       "    </tr>\n",
       "    <tr>\n",
       "      <th>min</th>\n",
       "      <td>366.240000</td>\n",
       "      <td>1.300000</td>\n",
       "      <td>5.397410e+05</td>\n",
       "      <td>0.639000</td>\n",
       "      <td>0.773000</td>\n",
       "      <td>0.500000</td>\n",
       "      <td>5.760783e+03</td>\n",
       "    </tr>\n",
       "    <tr>\n",
       "      <th>25%</th>\n",
       "      <td>516.330000</td>\n",
       "      <td>2.550000</td>\n",
       "      <td>2.861026e+06</td>\n",
       "      <td>0.698000</td>\n",
       "      <td>0.799000</td>\n",
       "      <td>0.535000</td>\n",
       "      <td>7.609908e+04</td>\n",
       "    </tr>\n",
       "    <tr>\n",
       "      <th>50%</th>\n",
       "      <td>598.770000</td>\n",
       "      <td>6.720000</td>\n",
       "      <td>3.996784e+06</td>\n",
       "      <td>0.735000</td>\n",
       "      <td>0.828000</td>\n",
       "      <td>0.566000</td>\n",
       "      <td>2.242738e+05</td>\n",
       "    </tr>\n",
       "    <tr>\n",
       "      <th>75%</th>\n",
       "      <td>847.060000</td>\n",
       "      <td>10.570000</td>\n",
       "      <td>9.314394e+06</td>\n",
       "      <td>0.770000</td>\n",
       "      <td>0.874500</td>\n",
       "      <td>0.638500</td>\n",
       "      <td>3.348839e+05</td>\n",
       "    </tr>\n",
       "    <tr>\n",
       "      <th>max</th>\n",
       "      <td>1498.740000</td>\n",
       "      <td>17.310000</td>\n",
       "      <td>4.591267e+07</td>\n",
       "      <td>0.849000</td>\n",
       "      <td>0.916000</td>\n",
       "      <td>0.705000</td>\n",
       "      <td>1.559168e+06</td>\n",
       "    </tr>\n",
       "  </tbody>\n",
       "</table>\n",
       "</div>"
      ],
      "text/plain": [
       "       renda_per_capita_  %_ext_pob  população_total_  idhm_educação_  \\\n",
       "count          27.000000  27.000000      2.700000e+01       27.000000   \n",
       "mean          702.846667   6.851852      7.759128e+06        0.733630   \n",
       "std           264.649058   4.578216      9.256985e+06        0.053191   \n",
       "min           366.240000   1.300000      5.397410e+05        0.639000   \n",
       "25%           516.330000   2.550000      2.861026e+06        0.698000   \n",
       "50%           598.770000   6.720000      3.996784e+06        0.735000   \n",
       "75%           847.060000  10.570000      9.314394e+06        0.770000   \n",
       "max          1498.740000  17.310000      4.591267e+07        0.849000   \n",
       "\n",
       "       idhm_longevidade_  idhm_desigualdade          Area  \n",
       "count          27.000000          27.000000  2.700000e+01  \n",
       "mean            0.835889           0.587037  3.152156e+05  \n",
       "std             0.043178           0.064692  3.751019e+05  \n",
       "min             0.773000           0.500000  5.760783e+03  \n",
       "25%             0.799000           0.535000  7.609908e+04  \n",
       "50%             0.828000           0.566000  2.242738e+05  \n",
       "75%             0.874500           0.638500  3.348839e+05  \n",
       "max             0.916000           0.705000  1.559168e+06  "
      ]
     },
     "execution_count": 3,
     "metadata": {},
     "output_type": "execute_result"
    }
   ],
   "source": [
    "base.iloc[0:27,:].describe()"
   ]
  },
  {
   "attachments": {},
   "cell_type": "markdown",
   "metadata": {},
   "source": [
    "Analizando a Figura (Boxplot), as regiões Norte e Nordeste apresentam as menores rendas per capita. Na região nordeste vemos um outlier, sendo o estado de Maranhão. Para as regiões Centro-Oeste, Sudeste e Sul, a renda per capita são mais elevedas, com a região Centro-Oeste apresentando um outlier, sendo o Distrito Federal. "
   ]
  },
  {
   "cell_type": "code",
   "execution_count": 4,
   "metadata": {},
   "outputs": [
    {
     "data": {
      "image/png": "[encoded data removed]",
      "text/plain": [
       "<Figure size 1080x360 with 1 Axes>"
      ]
     },
     "metadata": {
      "needs_background": "light"
     },
     "output_type": "display_data"
    }
   ],
   "source": [
    "plt.figure(figsize=(15, 5))\n",
    "sns.boxplot(x='Region', y='renda_per_capita_', data=base.iloc[0:27, :]);"
   ]
  },
  {
   "attachments": {},
   "cell_type": "markdown",
   "metadata": {},
   "source": [
    "Pela Figura (Dispersão 1) são apresentados diagramas de dispersão para as variáveis porcentagem de extrema pobreza e população total com a variável resposta renda per capita, separadas pelas regiões. Então, percebe-se que as maiores porcentagens de extrema pobreza estão na região nordeste, aumentando conforme a diminuição da renda percapita. Já os menores índices de pobreza estão nas regiões Centro-Oeste, Sudeste e Sul, com a região Centro-Oeste apresentando a maior renda per capita, no Distrito Federal. \n",
    "\n",
    "Olhando para a população total, no Distrito Federal mesmo apresentando uma população não tão expressiva, ainda contém a maior renda per capita. As regiões do Sudeste apresentaram as maiores quantidades de pupulação. Nordeste e Norte com as menores pupulações e renda per capita, como visto acima."
   ]
  },
  {
   "cell_type": "code",
   "execution_count": 5,
   "metadata": {},
   "outputs": [
    {
     "data": {
      "text/plain": [
       "<seaborn.axisgrid.PairGrid at 0x1f8de581e80>"
      ]
     },
     "execution_count": 5,
     "metadata": {},
     "output_type": "execute_result"
    },
    {
     "data": {
      "text/plain": [
       "<Figure size 1080x360 with 0 Axes>"
      ]
     },
     "metadata": {},
     "output_type": "display_data"
    },
    {
     "data": {
      "image/png": "[encoded data removed]",
      "text/plain": [
       "<Figure size 527.875x216 with 2 Axes>"
      ]
     },
     "metadata": {
      "needs_background": "light"
     },
     "output_type": "display_data"
    }
   ],
   "source": [
    "plt.figure(figsize=(15, 5))\n",
    "sns.PairGrid(data=base.iloc[0:27,:],y_vars=['renda_per_capita_'],x_vars=[\"%_ext_pob\",\"população_total_\"]\n",
    ",hue='Region',height=3).map(sns.scatterplot).add_legend()\n"
   ]
  },
  {
   "attachments": {},
   "cell_type": "markdown",
   "metadata": {},
   "source": [
    "Observando a Figura (Dispersão 2), no qual são apresentados diagramas de dispersão para as variáveis IDHM Educação e IDHM Longevidade com a variável resposta renda per capita, separadas pelas regiões. Nestas duas variáveis o comportamento é muito similar, com o Distrito Federal apresentando índices bem elevados dos IDHM. Junto com algumas regiões do Sudeste e Sul."
   ]
  },
  {
   "cell_type": "code",
   "execution_count": 6,
   "metadata": {},
   "outputs": [
    {
     "data": {
      "text/plain": [
       "<Figure size 1080x360 with 0 Axes>"
      ]
     },
     "metadata": {},
     "output_type": "display_data"
    },
    {
     "data": {
      "image/png": "[encoded data removed]",
      "text/plain": [
       "<Figure size 527.875x216 with 2 Axes>"
      ]
     },
     "metadata": {
      "needs_background": "light"
     },
     "output_type": "display_data"
    }
   ],
   "source": [
    "plt.figure(figsize=(15, 5))\n",
    "sns.PairGrid(data=base.iloc[0:27,:],y_vars=['renda_per_capita_'],x_vars=['idhm_educação_','idhm_longevidade_']\n",
    ",hue='Region',height=3).map(sns.scatterplot).add_legend();"
   ]
  },
  {
   "attachments": {},
   "cell_type": "markdown",
   "metadata": {},
   "source": [
    "Note pelo seguinte gráfico (Barra 1) que os estados da região Norte estão bem próximos da média do PIB per capita por estado (702.84666), SP e DF estão bem acima e os estados da região nordeste estão bem abaixo.\n"
   ]
  },
  {
   "cell_type": "code",
   "execution_count": 7,
   "metadata": {},
   "outputs": [
    {
     "data": {
      "image/png": "[encoded data removed]",
      "text/plain": [
       "<Figure size 1080x360 with 1 Axes>"
      ]
     },
     "metadata": {
      "needs_background": "light"
     },
     "output_type": "display_data"
    }
   ],
   "source": [
    "plt.figure(figsize=(15, 5))\n",
    "sns.barplot(data=base.iloc[0:27,:].sort_values('renda_per_capita_', ascending=False), y='territorialidade', x = 'renda_per_capita_', hue = 'Region', dodge=False);"
   ]
  },
  {
   "cell_type": "code",
   "execution_count": 8,
   "metadata": {},
   "outputs": [],
   "source": [
    "dummies = pd.get_dummies(base['Region'])\n",
    "base[dummies.columns] = dummies"
   ]
  },
  {
   "cell_type": "code",
   "execution_count": 9,
   "metadata": {},
   "outputs": [],
   "source": [
    "base = base.drop(columns=['Region'])"
   ]
  },
  {
   "cell_type": "code",
   "execution_count": 10,
   "metadata": {},
   "outputs": [],
   "source": [
    "treino = base.iloc[0:27, :].drop(columns=['territorialidade'])\n",
    "teste = base.iloc[27:54, :].drop(columns=['territorialidade'])\n",
    "val = base.iloc[54:81, :].drop(columns=['territorialidade'])"
   ]
  },
  {
   "cell_type": "code",
   "execution_count": 11,
   "metadata": {},
   "outputs": [],
   "source": [
    "y_treino = treino['renda_per_capita_']\n",
    "y_teste = teste['renda_per_capita_']\n",
    "y_val = val['renda_per_capita_']\n",
    "treino = treino.drop(columns=['renda_per_capita_'])\n",
    "teste = teste.drop(columns=['renda_per_capita_'])\n",
    "val = val.drop(columns=['renda_per_capita_'])"
   ]
  },
  {
   "attachments": {},
   "cell_type": "markdown",
   "metadata": {},
   "source": [
    "# Feature Selection"
   ]
  },
  {
   "attachments": {},
   "cell_type": "markdown",
   "metadata": {},
   "source": [
    "Para selecionarmos as variáveis que estarão presentes na modelagem , selecionado apenas as variáveis com valor preditivo,utilizaremos duas técnicas de feature selecion:\n",
    "\n",
    "    * SelectKBest: que demonstra quais das covariáveis estão mais correlacionadas com a variável resposta.\n",
    "    * Correlação entre as covariáveis, para que evite-se multicolineariedade e covariáveis que expliquem a mesma variação."
   ]
  },
  {
   "cell_type": "code",
   "execution_count": 12,
   "metadata": {},
   "outputs": [
    {
     "data": {
      "text/html": [
       "<div>\n",
       "<style scoped>\n",
       "    .dataframe tbody tr th:only-of-type {\n",
       "        vertical-align: middle;\n",
       "    }\n",
       "\n",
       "    .dataframe tbody tr th {\n",
       "        vertical-align: top;\n",
       "    }\n",
       "\n",
       "    .dataframe thead th {\n",
       "        text-align: right;\n",
       "    }\n",
       "</style>\n",
       "<table border=\"1\" class=\"dataframe\">\n",
       "  <thead>\n",
       "    <tr style=\"text-align: right;\">\n",
       "      <th></th>\n",
       "      <th>variables</th>\n",
       "      <th>pvalues</th>\n",
       "    </tr>\n",
       "  </thead>\n",
       "  <tbody>\n",
       "    <tr>\n",
       "      <th>5</th>\n",
       "      <td>Area</td>\n",
       "      <td>2.240339e-01</td>\n",
       "    </tr>\n",
       "    <tr>\n",
       "      <th>7</th>\n",
       "      <td>North</td>\n",
       "      <td>6.169539e-02</td>\n",
       "    </tr>\n",
       "    <tr>\n",
       "      <th>1</th>\n",
       "      <td>população_total_</td>\n",
       "      <td>5.995131e-02</td>\n",
       "    </tr>\n",
       "    <tr>\n",
       "      <th>10</th>\n",
       "      <td>Southeast</td>\n",
       "      <td>5.365048e-02</td>\n",
       "    </tr>\n",
       "    <tr>\n",
       "      <th>9</th>\n",
       "      <td>South</td>\n",
       "      <td>4.241665e-02</td>\n",
       "    </tr>\n",
       "    <tr>\n",
       "      <th>6</th>\n",
       "      <td>Center-west</td>\n",
       "      <td>2.270295e-02</td>\n",
       "    </tr>\n",
       "    <tr>\n",
       "      <th>8</th>\n",
       "      <td>Northeast</td>\n",
       "      <td>3.988380e-03</td>\n",
       "    </tr>\n",
       "    <tr>\n",
       "      <th>2</th>\n",
       "      <td>idhm_educação_</td>\n",
       "      <td>1.496472e-06</td>\n",
       "    </tr>\n",
       "    <tr>\n",
       "      <th>0</th>\n",
       "      <td>%_ext_pob</td>\n",
       "      <td>2.658631e-07</td>\n",
       "    </tr>\n",
       "    <tr>\n",
       "      <th>3</th>\n",
       "      <td>idhm_longevidade_</td>\n",
       "      <td>2.123200e-07</td>\n",
       "    </tr>\n",
       "    <tr>\n",
       "      <th>4</th>\n",
       "      <td>idhm_desigualdade</td>\n",
       "      <td>3.672548e-11</td>\n",
       "    </tr>\n",
       "  </tbody>\n",
       "</table>\n",
       "</div>"
      ],
      "text/plain": [
       "            variables       pvalues\n",
       "5                Area  2.240339e-01\n",
       "7               North  6.169539e-02\n",
       "1    população_total_  5.995131e-02\n",
       "10          Southeast  5.365048e-02\n",
       "9               South  4.241665e-02\n",
       "6         Center-west  2.270295e-02\n",
       "8           Northeast  3.988380e-03\n",
       "2      idhm_educação_  1.496472e-06\n",
       "0           %_ext_pob  2.658631e-07\n",
       "3   idhm_longevidade_  2.123200e-07\n",
       "4   idhm_desigualdade  3.672548e-11"
      ]
     },
     "execution_count": 12,
     "metadata": {},
     "output_type": "execute_result"
    }
   ],
   "source": [
    "from sklearn.feature_selection import SelectKBest, chi2, f_regression\n",
    "selector = SelectKBest(score_func=f_regression, k=treino.shape[1])\n",
    "selector.fit(treino, y_treino)\n",
    "features = pd.DataFrame({'variables' : treino.columns, 'pvalues' : selector.pvalues_, })\n",
    "features.sort_values(['pvalues'], ascending=False )"
   ]
  },
  {
   "attachments": {},
   "cell_type": "markdown",
   "metadata": {},
   "source": [
    "Na Figura (correlação) são apresentados as correlações entre as variáveis quantitativas em estudo. Observando a variável de extrema pobreza, nota-se que esta variável apresenta correlações fortes com praticamente todas as outras variáveis. Mesmo apresentando correlação forte com a variável resposta renda per capita, ela causará problemas de autocorrelação entre os dados. Portando, não usaremos na modelagem. Já considerando as outras variáveis explicativas, nenhuma delas apresentam correlações muito elevadas entre elas. Olhando para a variável resposta, apenas a população total e a área não apresentam correlações fortes com ela.\n",
    "\n",
    "Percebe-se também que a porcentagem de extrema pobreza possui correlação negativa com a variável resposta, ou seja, diminui a porcentagem de extrema pobreza conforme o aumento da renda per capita do local. Já para as demais variáveis explicativas, com exceção da área, todas apresentam correlação positiva, conforme aumento da renda per capita, tbm há um aumento em seus índices."
   ]
  },
  {
   "cell_type": "code",
   "execution_count": 13,
   "metadata": {},
   "outputs": [
    {
     "data": {
      "image/png": "[encoded data removed]",
      "text/plain": [
       "<Figure size 1080x360 with 2 Axes>"
      ]
     },
     "metadata": {
      "needs_background": "light"
     },
     "output_type": "display_data"
    }
   ],
   "source": [
    "plt.figure(figsize=(15, 5))\n",
    "sns.heatmap(base.iloc[0:27, 0:8].corr(), annot=True,cmap='RdYlBu');"
   ]
  },
  {
   "cell_type": "code",
   "execution_count": 14,
   "metadata": {},
   "outputs": [],
   "source": [
    "treino = treino.drop(columns=['%_ext_pob'])\n",
    "teste = teste.drop(columns=['%_ext_pob'])\n",
    "val = val.drop(columns=['%_ext_pob'])"
   ]
  },
  {
   "attachments": {},
   "cell_type": "markdown",
   "metadata": {},
   "source": [
    "# Modelagem\n"
   ]
  },
  {
   "attachments": {},
   "cell_type": "markdown",
   "metadata": {},
   "source": [
    "Vamos aqui realizar a análise preditiva, onde queremos obter o modelo com maior poder preditivo para avaliar a renda per capita, assim utilizaremos os dados de 2019 como treino, os de 2020 como teste para o ajuste dos hiperparâmetros e os dados de 2021 para a validação final das métricas. Visto que temos uma base de dados com poucas observações utilizaremos 8 modelos para ver o qual se saí melhor na predição: Regressão Linear, ElasticNet, Lasso, Ridge, Árvores de Decisão, Random Forest, LightGBM e XGBoost.\n",
    "\n",
    "Para o ajuste dos hiperparâmetros utilizaremos a busca aleatória e a busca bayesiana.\n"
   ]
  },
  {
   "cell_type": "code",
   "execution_count": 15,
   "metadata": {},
   "outputs": [],
   "source": [
    "def search_space(model):\n",
    "    model = model.lower()\n",
    "    space = {}\n",
    "    if model == 'dt':\n",
    "        space = {\n",
    "            'min_samples_leaf': hp.randint('min_samples_leaf', 1,50),\n",
    "            'max_depth': hp.randint('max_depth', 1,25),\n",
    "            'max_features': hp.choice('max_features', ['auto', 'sqrt', 'log2']),\n",
    "            'min_impurity_decrease': hp.uniform('min_impurity_decrease', 0, 1)\n",
    "            }\n",
    "    elif model == 'lasso':\n",
    "        space = {\n",
    "            'alpha' : hp.uniform('alpha', 0.00001, 10),\n",
    "            'warm_start' : hp.choice('warm_start', [True, False]),\n",
    "            'tol' : hp.uniform('tol', 0.00001, 0.0001),\n",
    "            'max_iter' : hp.choice('max_iter', range(100,1000))\n",
    "            }\n",
    "    elif model == 'ridge':\n",
    "        space = {\n",
    "            'alpha' : hp.uniform('alpha', 0.00001, 500),\n",
    "            'tol' : hp.uniform('tol', 0.00001, 0.0001),\n",
    "            'max_iter' : hp.choice('max_iter', range(100,1000)),\n",
    "            'solver' : hp.choice('solver', ['svd', 'sag', 'saga', 'lbfgs', 'auto']),\n",
    "            }\n",
    "    elif model == 'linear':\n",
    "         space = {\n",
    "            'fit_intercept' : hp.choice('fit_intercept', [True, False]),\n",
    "            }\n",
    "    elif model == 'elastic':\n",
    "        space = {\n",
    "            'alpha' : hp.uniform('alpha', 0.00001, 100),\n",
    "            'l1_ratio' : hp.uniform('l1_ratio', 0, 1),\n",
    "            'warm_start' : hp.choice('warm_start', [True, False]),\n",
    "            'tol' : hp.uniform('tol', 0.00001, 0.0001),\n",
    "            'max_iter' : hp.choice('max_iter', range(100,1000)),\n",
    "            }\n",
    "    elif model == 'rf':\n",
    "        space = {\n",
    "                'min_samples_leaf': hp.randint('min_samples_leaf', 1,50),\n",
    "                'max_depth': hp.randint('max_depth', 1,20),\n",
    "                'n_estimators': hp.randint('n_estimators', 50,1000),\n",
    "                'max_leaf_nodes' : hp.randint('max_leaf_nodes', 2,100),\n",
    "                'min_impurity_decrease': hp.uniform('min_impurity_decrease', 0.0, 0.3)\n",
    "            }\n",
    "    elif model == 'lgbm':\n",
    "        space = {\n",
    "            'num_leaves':  hp.randint('num_leaves', 1,50),\n",
    "            'max_depth': hp.randint('max_depth', 1,20),\n",
    "            'feature_fraction':  hp.uniform('feature_fraction', 0.2, 0.5),\n",
    "            'subsample':  hp.uniform('subsample', 0.2, 1),\n",
    "            'bagging_fraction':  hp.uniform('bagging_fraction', 0.5, 0.9),    \n",
    "            'learning_rate':  hp.uniform('learning_rate', 0.001, 0.1),\n",
    "            'lambda_l1':  hp.uniform('lambda_l1', 0.0001, 1),\n",
    "            'lambda_l2':  hp.uniform('lambda_l2', 0.0001, 1),\n",
    "            'min_child_samples': hp.randint('min_child_samples', 1,50),\n",
    "            'n_estimators': hp.randint('n_estimators', 50,1000),\n",
    "            'colsample_bytree':  hp.uniform('colsample_bytree', 0.1, 1)  \n",
    "            }\n",
    "    elif model == 'xgb':\n",
    "        space={\n",
    "                'max_depth': hp.choice('max_depth', range(1,20)),\n",
    "                'learning_rate':  hp.uniform('learning_rate', 0.001, 0.1),\n",
    "                'gamma': hp.uniform ('gamma', 1,9),\n",
    "                'min_child_samples': hp.choice('min_child_samples', range(1,50)),\n",
    "                'subsample':  hp.uniform('subsample', 0.2, 1),\n",
    "                'reg_alpha' : hp.quniform('reg_alpha', 40,180,1),\n",
    "                'reg_lambda' : hp.uniform('reg_lambda', 0,1),\n",
    "                'colsample_bytree' : hp.uniform('colsample_bytree', 0.5,1),\n",
    "                'min_child_weight' : hp.quniform('min_child_weight', 0, 10, 1),\n",
    "                'n_estimators': hp.choice('n_estimators', range(50,1000)),\n",
    "                'parallel_tree': hp.uniform ('parallel_tree', 1,10),\n",
    "            }\n",
    "    space['model'] = model\n",
    "    return space"
   ]
  },
  {
   "cell_type": "code",
   "execution_count": 16,
   "metadata": {},
   "outputs": [],
   "source": [
    "models = {\n",
    "            'dt' : DecisionTreeRegressor,\n",
    "            'rf' : RandomForestRegressor,\n",
    "            'xgb' : XGBRegressor,\n",
    "            'lgbm' : LGBMRegressor ,\n",
    "            'lasso' : Lasso,\n",
    "            'elastic' : ElasticNet,\n",
    "            'ridge' : Ridge,\n",
    "            'linear' : LinearRegression\n",
    "        }"
   ]
  },
  {
   "cell_type": "code",
   "execution_count": 17,
   "metadata": {},
   "outputs": [],
   "source": [
    "def get_acc_status(clf,X_,y):\n",
    "    acc = cross_val_score(clf, X_, y, cv=5, scoring=\"neg_root_mean_squared_error\").mean()\n",
    "    display(clear=True)\n",
    "    return {'loss': -acc, 'status': STATUS_OK}\n",
    "\n",
    "def obj_fnc(params):\n",
    "    print(type(params.get('model')), '---')\n",
    "    model = params.get('model').lower()\n",
    "    del params['model']\n",
    "    clf = models[model](**params)\n",
    "    display(clear=True)\n",
    "    return(get_acc_status(clf,treino,y_treino))"
   ]
  },
  {
   "cell_type": "code",
   "execution_count": 37,
   "metadata": {},
   "outputs": [
    {
     "name": "stdout",
     "output_type": "stream",
     "text": [
      "100%|██████████| 50/50 [00:02<00:00, 24.38trial/s, best loss: 142.03972847641143]\n",
      "{'fit_intercept': 0}\n",
      "142.03972847641143\n"
     ]
    }
   ],
   "source": [
    "best_params = {}\n",
    "hypopt_trials = {}\n",
    "\n",
    "for model in models:\n",
    "    hypopt_trials[model] = Trials()\n",
    "    best_params[model] = fmin(obj_fnc, search_space(model), algo=tpe.suggest,\n",
    "    max_evals=50, trials= hypopt_trials[model])\n",
    "    print(best_params[model])\n",
    "    print(hypopt_trials[model].best_trial['result']['loss'])"
   ]
  },
  {
   "cell_type": "code",
   "execution_count": 38,
   "metadata": {},
   "outputs": [
    {
     "name": "stdout",
     "output_type": "stream",
     "text": [
      "[14:42:31] WARNING: C:/buildkite-agent/builds/buildkite-windows-cpu-autoscaling-group-i-08de971ced8a8cdc6-1/xgboost/xgboost-ci-windows/src/learner.cc:767: \n",
      "Parameters: { \"min_child_samples\", \"parallel_tree\" } are not used.\n",
      "\n",
      "[LightGBM] [Warning] feature_fraction is set=0.27288111190398023, colsample_bytree=0.1455520116143903 will be ignored. Current value: feature_fraction=0.27288111190398023\n",
      "[LightGBM] [Warning] lambda_l1 is set=0.9175903324681571, reg_alpha=0.0 will be ignored. Current value: lambda_l1=0.9175903324681571\n",
      "[LightGBM] [Warning] bagging_fraction is set=0.5563039228119312, subsample=0.47098685150997244 will be ignored. Current value: bagging_fraction=0.5563039228119312\n",
      "[LightGBM] [Warning] lambda_l2 is set=0.7002741458038777, reg_lambda=0.0 will be ignored. Current value: lambda_l2=0.7002741458038777\n"
     ]
    }
   ],
   "source": [
    "for model in best_params:\n",
    "    if model == 'rf':\n",
    "        crit = {0: 'gini', 1:  'entropy', 2: 'log_loss'}\n",
    "        feat = {0: 'sqrt', 1: 'log2', 2: None}\n",
    "\n",
    "        trainedforest = RandomForestRegressor(\n",
    "                                            min_samples_leaf = best_params[model]['min_samples_leaf'], \n",
    "                                            max_depth = best_params[model]['max_depth'], \n",
    "                                            min_impurity_decrease = best_params[model]['min_impurity_decrease'], \n",
    "                                            max_leaf_nodes = best_params[model]['max_leaf_nodes'], \n",
    "                                            n_estimators = best_params[model]['n_estimators']\n",
    "                                            ).fit(treino, y_treino)\n",
    "\n",
    "    elif model == 'xgb':\n",
    "         trainedxgb = XGBRegressor(learning_rate = best_params[model]['learning_rate'], \n",
    "                                            max_depth = best_params[model]['max_depth'], \n",
    "                                            gamma = best_params[model]['gamma'],\n",
    "                                            min_child_samples = best_params[model]['min_child_samples'],\n",
    "                                            subsample = best_params[model]['subsample'], \n",
    "                                            reg_alpha = best_params[model]['reg_alpha'],\n",
    "                                            reg_lambda = best_params[model]['reg_lambda'],\n",
    "                                            colsample_bytree = best_params[model]['colsample_bytree'], \n",
    "                                            min_child_weight = best_params[model]['min_child_weight'], \n",
    "                                            parallel_tree = best_params[model]['parallel_tree'], \n",
    "                                            n_estimators = best_params[model]['n_estimators']\n",
    "                                            ).fit(treino, y_treino)\n",
    "    elif model == 'lgbm':\n",
    "         trainedlgbm = LGBMRegressor(learning_rate = best_params[model]['learning_rate'], \n",
    "                                            max_depth = best_params[model]['max_depth'], \n",
    "                                            num_leaves = best_params[model]['num_leaves'],\n",
    "                                            subsample = best_params[model]['subsample'], \n",
    "                                            colsample_bytree = best_params[model]['colsample_bytree'], \n",
    "                                            feature_fraction = best_params[model]['feature_fraction'], \n",
    "                                            bagging_fraction = best_params[model]['bagging_fraction'], \n",
    "                                            n_estimators = best_params[model]['n_estimators'],\n",
    "                                            lambda_l1 = best_params[model]['lambda_l1'],\n",
    "                                            lambda_l2 = best_params[model]['lambda_l2'],\n",
    "                                            min_child_samples = best_params[model]['min_child_samples']\n",
    "                                            ).fit(treino, y_treino)\n",
    "\n",
    "    elif model == 'dt':\n",
    "        feat = {0: 'sqrt', 1: 'log2', 2: None}\n",
    "        trainedtree = DecisionTreeRegressor(\n",
    "                                            max_depth = best_params[model]['max_depth'], \n",
    "                                            max_features = feat[best_params[model]['max_features']], \n",
    "                                            min_samples_leaf = best_params[model]['min_samples_leaf'], \n",
    "                                            min_impurity_decrease = best_params[model]['min_impurity_decrease']).fit(treino, y_treino)\n",
    "    elif model == 'lasso':\n",
    "        booleano = {0 : True, 1 : False}\n",
    "\n",
    "        trainedlasso = Lasso(\n",
    "                                            alpha=best_params[model]['alpha'],\n",
    "                                            warm_start = booleano[best_params[model]['warm_start']],\n",
    "                                            tol = best_params[model]['tol'],\n",
    "                                            max_iter = best_params[model]['max_iter']).fit(treino, y_treino)\n",
    "    elif model == 'ridge':\n",
    "        booleano = {0 : True, 1 : False}\n",
    "        solver = {0: 'svd', 1: 'sag', 2: 'saga', 3 : 'lbfgs', 4 : 'auto'}\n",
    "        trainedridge = Ridge(\n",
    "                                            alpha=best_params[model]['alpha'],\n",
    "                                            tol = best_params[model]['tol'],\n",
    "                                            solver = solver[best_params[model]['solver']],\n",
    "                                            max_iter = best_params[model]['max_iter']).fit(treino, y_treino)\n",
    "    elif model == 'elastic':\n",
    "        booleano = {0 : True, 1 : False}\n",
    "        trainedelastic = ElasticNet(\n",
    "                                            l1_ratio=best_params[model]['l1_ratio'],\n",
    "                                            alpha=best_params[model]['alpha'],\n",
    "                                            warm_start = booleano[best_params[model]['warm_start']],\n",
    "                                            tol = best_params[model]['tol'],\n",
    "                                            max_iter = best_params[model]['max_iter']).fit(treino, y_treino)\n",
    "    elif model == 'linear':\n",
    "        booleano = {0 : True, 1 : False}\n",
    "        trainedlinear = LinearRegression(fit_intercept = booleano[best_params[model]['fit_intercept']]).fit(treino, y_treino)\n"
   ]
  },
  {
   "attachments": {},
   "cell_type": "markdown",
   "metadata": {},
   "source": [
    "# Conclusão"
   ]
  },
  {
   "attachments": {},
   "cell_type": "markdown",
   "metadata": {},
   "source": [
    "Para a avaliação da qualidade dos modelos que ajustamos (considerando os hiperparâmetros) utilizaremos as métricas de erro mais usuais: R^2 (R quadrado), Mean Absolute Error (MAE), Root Mean Squared Error (RMSE) e Mean Absolute Percentage Error (MAPE)."
   ]
  },
  {
   "cell_type": "code",
   "execution_count": 39,
   "metadata": {},
   "outputs": [],
   "source": [
    "def regression_metrics(model):\n",
    "    y_pred = model.predict(val)\n",
    "    metrics = [r2_score(y_val, y_pred), mean_absolute_error(y_val,y_pred), np.sqrt(mean_squared_error(y_val, y_pred)),mean_absolute_percentage_error(y_val, y_pred)]\n",
    "    return metrics"
   ]
  },
  {
   "cell_type": "code",
   "execution_count": 40,
   "metadata": {},
   "outputs": [],
   "source": [
    "trained_models = {\n",
    "            'dt' : trainedtree,\n",
    "            'rf' : trainedforest,\n",
    "            'xgb' : trainedxgb,\n",
    "            'lgbm' : trainedlgbm ,\n",
    "            'lasso' : trainedlasso,\n",
    "            'elastic' : trainedelastic,\n",
    "            'ridge' : trainedridge,\n",
    "            'linear' : trainedlinear\n",
    "        }"
   ]
  },
  {
   "cell_type": "code",
   "execution_count": 41,
   "metadata": {},
   "outputs": [],
   "source": [
    "metrics = pd.DataFrame()\n",
    "metrics['metricas'] = ['R^2', 'MAE', 'RMSE', 'MAPE']\n",
    "for model in trained_models:\n",
    "    metrics[model] = regression_metrics(trained_models[model])"
   ]
  },
  {
   "attachments": {},
   "cell_type": "markdown",
   "metadata": {},
   "source": [
    "Conforme podemos ver pela Tabela abaixo (Tabela 1), temos que o LightGBM (um dos maiores concorrentes do XGBoost para dados tabulares), se sobressaí a todos os modelos em todas as 4 métricas, com bons valores para todas elas. Destaca-se que a Regressão Lasso superou o XGBoost no R^2, MAE e RMSE (com considerável vantagem), indicando erros com menor magnitude, assim como a Regressão Linear ficando apenas atráss desses 3 modelos de maneira geral.\n",
    "\n",
    "Percebe-se também as árvores de decisão se aproximando ou até superando a Random Forest em algumas métricas, e os piores modelos sendo a ElasticNet e a Regressão Ridge, com performance geral extremamente abaixo dos outros modelos.\n",
    "\n",
    "Assim caso fosse necessário colocar o modelo em produção selecionaríamos o modelo com algoritmo LightGBM para melhor capacidade preditiva ou o modelo com Regressão Lasso (até mesmo o Modelo com Regressão Linear) caso a capacidade computacional seja um impeditivo."
   ]
  },
  {
   "cell_type": "code",
   "execution_count": 42,
   "metadata": {},
   "outputs": [
    {
     "data": {
      "text/html": [
       "<div>\n",
       "<style scoped>\n",
       "    .dataframe tbody tr th:only-of-type {\n",
       "        vertical-align: middle;\n",
       "    }\n",
       "\n",
       "    .dataframe tbody tr th {\n",
       "        vertical-align: top;\n",
       "    }\n",
       "\n",
       "    .dataframe thead th {\n",
       "        text-align: right;\n",
       "    }\n",
       "</style>\n",
       "<table border=\"1\" class=\"dataframe\">\n",
       "  <thead>\n",
       "    <tr style=\"text-align: right;\">\n",
       "      <th></th>\n",
       "      <th>metricas</th>\n",
       "      <th>dt</th>\n",
       "      <th>rf</th>\n",
       "      <th>xgb</th>\n",
       "      <th>lgbm</th>\n",
       "      <th>lasso</th>\n",
       "      <th>elastic</th>\n",
       "      <th>ridge</th>\n",
       "      <th>linear</th>\n",
       "    </tr>\n",
       "  </thead>\n",
       "  <tbody>\n",
       "    <tr>\n",
       "      <th>0</th>\n",
       "      <td>R^2</td>\n",
       "      <td>0.491235</td>\n",
       "      <td>0.801810</td>\n",
       "      <td>0.796115</td>\n",
       "      <td>0.922883</td>\n",
       "      <td>0.826164</td>\n",
       "      <td>0.681905</td>\n",
       "      <td>0.154842</td>\n",
       "      <td>0.745867</td>\n",
       "    </tr>\n",
       "    <tr>\n",
       "      <th>1</th>\n",
       "      <td>MAE</td>\n",
       "      <td>119.061185</td>\n",
       "      <td>69.604984</td>\n",
       "      <td>68.664799</td>\n",
       "      <td>47.619828</td>\n",
       "      <td>71.266652</td>\n",
       "      <td>103.143298</td>\n",
       "      <td>167.534531</td>\n",
       "      <td>80.978206</td>\n",
       "    </tr>\n",
       "    <tr>\n",
       "      <th>2</th>\n",
       "      <td>RMSE</td>\n",
       "      <td>160.591805</td>\n",
       "      <td>100.231830</td>\n",
       "      <td>101.661839</td>\n",
       "      <td>62.523070</td>\n",
       "      <td>93.871754</td>\n",
       "      <td>126.982368</td>\n",
       "      <td>206.982633</td>\n",
       "      <td>113.499998</td>\n",
       "    </tr>\n",
       "    <tr>\n",
       "      <th>3</th>\n",
       "      <td>MAPE</td>\n",
       "      <td>0.173661</td>\n",
       "      <td>0.101816</td>\n",
       "      <td>0.101312</td>\n",
       "      <td>0.074964</td>\n",
       "      <td>0.112411</td>\n",
       "      <td>0.173510</td>\n",
       "      <td>0.304072</td>\n",
       "      <td>0.121980</td>\n",
       "    </tr>\n",
       "  </tbody>\n",
       "</table>\n",
       "</div>"
      ],
      "text/plain": [
       "  metricas          dt          rf         xgb       lgbm      lasso  \\\n",
       "0      R^2    0.491235    0.801810    0.796115   0.922883   0.826164   \n",
       "1      MAE  119.061185   69.604984   68.664799  47.619828  71.266652   \n",
       "2     RMSE  160.591805  100.231830  101.661839  62.523070  93.871754   \n",
       "3     MAPE    0.173661    0.101816    0.101312   0.074964   0.112411   \n",
       "\n",
       "      elastic       ridge      linear  \n",
       "0    0.681905    0.154842    0.745867  \n",
       "1  103.143298  167.534531   80.978206  \n",
       "2  126.982368  206.982633  113.499998  \n",
       "3    0.173510    0.304072    0.121980  "
      ]
     },
     "execution_count": 42,
     "metadata": {},
     "output_type": "execute_result"
    }
   ],
   "source": [
    "metrics"
   ]
  },
  {
   "cell_type": "code",
   "execution_count": 44,
   "metadata": {},
   "outputs": [
    {
     "data": {
      "text/plain": [
       "'<table border=\"1\" class=\"dataframe\">\\n  <thead>\\n    <tr style=\"text-align: right;\">\\n      <th></th>\\n      <th>metricas</th>\\n      <th>dt</th>\\n      <th>rf</th>\\n      <th>xgb</th>\\n      <th>lgbm</th>\\n      <th>lasso</th>\\n      <th>elastic</th>\\n      <th>ridge</th>\\n      <th>linear</th>\\n    </tr>\\n  </thead>\\n  <tbody>\\n    <tr>\\n      <th>0</th>\\n      <td>R^2</td>\\n      <td>0.491235</td>\\n      <td>0.801810</td>\\n      <td>0.796115</td>\\n      <td>0.922883</td>\\n      <td>0.826164</td>\\n      <td>0.681905</td>\\n      <td>0.154842</td>\\n      <td>0.745867</td>\\n    </tr>\\n    <tr>\\n      <th>1</th>\\n      <td>MAE</td>\\n      <td>119.061185</td>\\n      <td>69.604984</td>\\n      <td>68.664799</td>\\n      <td>47.619828</td>\\n      <td>71.266652</td>\\n      <td>103.143298</td>\\n      <td>167.534531</td>\\n      <td>80.978206</td>\\n    </tr>\\n    <tr>\\n      <th>2</th>\\n      <td>RMSE</td>\\n      <td>160.591805</td>\\n      <td>100.231830</td>\\n      <td>101.661839</td>\\n      <td>62.523070</td>\\n      <td>93.871754</td>\\n      <td>126.982368</td>\\n      <td>206.982633</td>\\n      <td>113.499998</td>\\n    </tr>\\n    <tr>\\n      <th>3</th>\\n      <td>MAPE</td>\\n      <td>0.173661</td>\\n      <td>0.101816</td>\\n      <td>0.101312</td>\\n      <td>0.074964</td>\\n      <td>0.112411</td>\\n      <td>0.173510</td>\\n      <td>0.304072</td>\\n      <td>0.121980</td>\\n    </tr>\\n  </tbody>\\n</table>'"
      ]
     },
     "execution_count": 44,
     "metadata": {},
     "output_type": "execute_result"
    }
   ],
   "source": [
    "metrics.to_html()"
   ]
  }
 ],
 "metadata": {
  "kernelspec": {
   "display_name": "base",
   "language": "python",
   "name": "python3"
  },
  "language_info": {
   "codemirror_mode": {
    "name": "ipython",
    "version": 3
   },
   "file_extension": ".py",
   "mimetype": "text/x-python",
   "name": "python",
   "nbconvert_exporter": "python",
   "pygments_lexer": "ipython3",
   "version": "3.9.12"
  },
  "orig_nbformat": 4,
  "vscode": {
   "interpreter": {
    "hash": "802a45e6ea1001ee05ac0fd63f937ec92fbe9ea23ac5247270696386f141362b"
   }
  }
 },
 "nbformat": 4,
 "nbformat_minor": 2
}
